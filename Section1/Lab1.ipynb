{
 "cells": [
  {
   "cell_type": "markdown",
   "id": "85cea3af-3a14-4b46-bd15-d0dfd0b0d69b",
   "metadata": {},
   "source": [
    "                                   Scalar   Objects\n",
    "int – represent integers, ex. 5\n",
    "float – represent real numbers, ex. 3.27\n",
    "bool – represent Boolean values True and False\n",
    "None Type – special and has one value, None\n",
    "can use type() to see the type of an object\n"
   ]
  },
  {
   "cell_type": "markdown",
   "id": "94ade035-2f14-4b47-8932-050a4b1e9578",
   "metadata": {},
   "source": [
    "Type Conversion--> We Can Convert Data type from one to another."
   ]
  },
  {
   "cell_type": "code",
   "execution_count": 9,
   "id": "8186da9d-5ea1-4de0-8bb8-2c7b7802339f",
   "metadata": {},
   "outputs": [
    {
     "name": "stdout",
     "output_type": "stream",
     "text": [
      "x= 35.0\n",
      "5 Hello\n"
     ]
    }
   ],
   "source": [
    "x=float(35)\n",
    "y=str(5)\n",
    "print(\"x=\",x)\n",
    "print(y+\" Hello\") # is valid here as we can concatenate 2 strings to each other, but we can't add an integer number to the string. "
   ]
  },
  {
   "cell_type": "markdown",
   "id": "7ad4f0e7-78ea-4712-b5dc-23bb1736cc5c",
   "metadata": {},
   "source": [
    "printing To console : Using Built in function --> print()"
   ]
  },
  {
   "cell_type": "code",
   "execution_count": 12,
   "id": "a24fb97a-ef80-45f5-bfe1-0d33db0f24b5",
   "metadata": {},
   "outputs": [
    {
     "name": "stdout",
     "output_type": "stream",
     "text": [
      "Hello World\n",
      "2+3= 5\n"
     ]
    }
   ],
   "source": [
    "print(\"Hello World\")\n",
    "print(\"2+3=\",2+3)"
   ]
  },
  {
   "cell_type": "markdown",
   "id": "07cf90a1-e053-4a0e-8ddd-2d20e67ade78",
   "metadata": {},
   "source": [
    "Some of the Operations that can be done on integer and float numbers are:\n",
    "Sum --> i+j\n",
    "Difference --> i+j\n",
    "Multiplication --> i*j\n",
    "Division --> i/j\n",
    "Reminder --> i%j\n",
    "Power i**j"
   ]
  },
  {
   "cell_type": "code",
   "execution_count": 17,
   "id": "acbeea4e-93c3-4d63-9017-fedba8a9c557",
   "metadata": {},
   "outputs": [
    {
     "name": "stdout",
     "output_type": "stream",
     "text": [
      "8\n",
      "2\n",
      "15\n",
      "1.6666666666666667\n",
      "2\n",
      "125\n"
     ]
    }
   ],
   "source": [
    "print(5+3)\n",
    "print(5-3)\n",
    "print(5*3)\n",
    "print(5/3)\n",
    "print(5%3)\n",
    "print(5**3)"
   ]
  },
  {
   "cell_type": "markdown",
   "id": "85268fc3-8a65-45fb-8837-4d78d0871064",
   "metadata": {},
   "source": [
    "                 Non-Scaler Objects"
   ]
  },
  {
   "cell_type": "markdown",
   "id": "cbe5b067-f0e4-47ce-bb5c-0bf204a68050",
   "metadata": {},
   "source": [
    "1-List: A List is collection of items that are ordered and changeable, may be of the same or different types,\n",
    "separated by a comma and enclosed in square brackets."
   ]
  },
  {
   "cell_type": "code",
   "execution_count": 21,
   "id": "bc75183f-f1c2-4904-bb5d-f7ec3b08a03d",
   "metadata": {},
   "outputs": [
    {
     "name": "stdout",
     "output_type": "stream",
     "text": [
      "[2, 5.5, (2+3j), 'Hello']\n"
     ]
    }
   ],
   "source": [
    "l1=[2,5.5,2+3j,\"Hello\"]\n",
    "print(l1)"
   ]
  },
  {
   "cell_type": "markdown",
   "id": "077a3c41-a44d-4ed0-871b-7088e34d3346",
   "metadata": {},
   "source": [
    "Some Of Methods that can be applied on lists are:\n",
    "append(),clear(),copy(),count(),extend(), index(), insert(),sort(),pop(),remove(),reverse()."
   ]
  },
  {
   "cell_type": "code",
   "execution_count": 24,
   "id": "d51f3476-2615-4b10-ad65-8e2576b3d6f8",
   "metadata": {},
   "outputs": [
    {
     "data": {
      "text/plain": [
       "['Hello', 25, 4.05, 2002, True, 'Eman']"
      ]
     },
     "execution_count": 24,
     "metadata": {},
     "output_type": "execute_result"
    }
   ],
   "source": [
    "list=[\"Hello\",25,4.05,2002,True,\"Eman\"]\n",
    "list"
   ]
  },
  {
   "cell_type": "code",
   "execution_count": 26,
   "id": "83c4fe6b-ab2b-420e-a499-df9be5c3bcb3",
   "metadata": {},
   "outputs": [
    {
     "data": {
      "text/plain": [
       "['Hello', 25, 4.05, 2002, True, 'Eman', 'Orabi']"
      ]
     },
     "execution_count": 26,
     "metadata": {},
     "output_type": "execute_result"
    }
   ],
   "source": [
    "list.append(\"Orabi\")   # Add the element after the last index in the list\n",
    "list"
   ]
  },
  {
   "cell_type": "code",
   "execution_count": 28,
   "id": "86fb8002-26f0-4836-b88b-6d3bc50c4af6",
   "metadata": {},
   "outputs": [
    {
     "data": {
      "text/plain": [
       "['Hello', 25, 4.05, 2002, True, 'Eman', 'Orabi']"
      ]
     },
     "execution_count": 28,
     "metadata": {},
     "output_type": "execute_result"
    }
   ],
   "source": [
    "list2=list.copy()  # Take a copy of the list and assigned it to a new list\n",
    "list2"
   ]
  },
  {
   "cell_type": "code",
   "execution_count": 30,
   "id": "72865010-e6d1-4cda-862c-a8f952f35c4d",
   "metadata": {},
   "outputs": [
    {
     "data": {
      "text/plain": [
       "1"
      ]
     },
     "execution_count": 30,
     "metadata": {},
     "output_type": "execute_result"
    }
   ],
   "source": [
    "counts=list.count(\"Orabi\") # Counts number of repetitions of the element\n",
    "counts"
   ]
  },
  {
   "cell_type": "code",
   "execution_count": 32,
   "id": "2d825884-05a4-46c1-ab42-b31d1b621907",
   "metadata": {},
   "outputs": [
    {
     "data": {
      "text/plain": [
       "['Hello', 25, 4.05, 2002, True, 'Eman', 'Orabi', 'E', 'm', 'a', 'n']"
      ]
     },
     "execution_count": 32,
     "metadata": {},
     "output_type": "execute_result"
    }
   ],
   "source": [
    "list.extend(\"Eman\") # Extened the elements into its charters\n",
    "list"
   ]
  },
  {
   "cell_type": "code",
   "execution_count": 34,
   "id": "0f4802d0-8e33-4e0b-8f60-4c4ed9c0161d",
   "metadata": {},
   "outputs": [
    {
     "data": {
      "text/plain": [
       "5"
      ]
     },
     "execution_count": 34,
     "metadata": {},
     "output_type": "execute_result"
    }
   ],
   "source": [
    "index_Val=list.index(\"Eman\") # Know the index Of The Element\n",
    "index_Val"
   ]
  },
  {
   "cell_type": "code",
   "execution_count": 36,
   "id": "28028a8d-81fb-4a4f-a59b-bdc87ee895b0",
   "metadata": {},
   "outputs": [
    {
     "data": {
      "text/plain": [
       "['Hello', 25, 4.05, 2002, True, 'Eman', 'Taha', 'Orabi', 'E', 'm', 'a', 'n']"
      ]
     },
     "execution_count": 36,
     "metadata": {},
     "output_type": "execute_result"
    }
   ],
   "source": [
    "list.insert(6, \"Taha\")  # Insert or Add a new Element like appened, but the difference is that you can put it any index you wanna \n",
    "list"
   ]
  },
  {
   "cell_type": "markdown",
   "id": "eddca922-2378-421d-b6bd-a530d4fbffb4",
   "metadata": {},
   "source": [
    "Sort here is applied on the same data type and it is by default the reverse is false which means order from smaller to older\n",
    "when reverse is true --> This means order from older to smaller"
   ]
  },
  {
   "cell_type": "code",
   "execution_count": 39,
   "id": "0e56c571-a99b-4ef2-a9d4-9f132d3678c6",
   "metadata": {},
   "outputs": [
    {
     "data": {
      "text/plain": [
       "[48545, 2054, 95, 5, 4, 4, 0.5]"
      ]
     },
     "execution_count": 39,
     "metadata": {},
     "output_type": "execute_result"
    }
   ],
   "source": [
    "list3=[5,4,4,95,2054,48545,0.5]\n",
    "list3.sort(reverse=True) \n",
    "list3"
   ]
  },
  {
   "cell_type": "code",
   "execution_count": 41,
   "id": "4b836b86-3bc4-4dfb-870a-ef700208f1e6",
   "metadata": {},
   "outputs": [
    {
     "data": {
      "text/plain": [
       "['Hello', 25, 4.05, 2002, True, 'Eman', 'Taha', 'Orabi', 'E', 'm', 'a']"
      ]
     },
     "execution_count": 41,
     "metadata": {},
     "output_type": "execute_result"
    }
   ],
   "source": [
    "list.pop() # remove the last element in the list\n",
    "list"
   ]
  },
  {
   "cell_type": "code",
   "execution_count": 43,
   "id": "9b619673-972e-4bf0-a4d4-e5d3aae5bb1f",
   "metadata": {},
   "outputs": [
    {
     "data": {
      "text/plain": [
       "['Hello', 25, 4.05, 2002, True, 'Eman', 'Orabi', 'E', 'm', 'a']"
      ]
     },
     "execution_count": 43,
     "metadata": {},
     "output_type": "execute_result"
    }
   ],
   "source": [
    "list.remove(\"Taha\")  # Remove the element that you mention\n",
    "list"
   ]
  },
  {
   "cell_type": "code",
   "execution_count": 45,
   "id": "6f8cf8be-c83a-4c13-a469-2431b1176655",
   "metadata": {},
   "outputs": [
    {
     "data": {
      "text/plain": [
       "['Orabi', 'Eman', True, 2002, 4.05, 25, 'Hello']"
      ]
     },
     "execution_count": 45,
     "metadata": {},
     "output_type": "execute_result"
    }
   ],
   "source": [
    "list2.reverse()  # Revesre the elements so that the last elements be the first and so on...\n",
    "list2"
   ]
  },
  {
   "cell_type": "code",
   "execution_count": 47,
   "id": "0083e18f-14a3-4d13-9789-6aa7e3b99137",
   "metadata": {},
   "outputs": [
    {
     "data": {
      "text/plain": [
       "[]"
      ]
     },
     "execution_count": 47,
     "metadata": {},
     "output_type": "execute_result"
    }
   ],
   "source": [
    "list2.clear()  # Clear the list by all its elements.\n",
    "list2"
   ]
  },
  {
   "cell_type": "markdown",
   "id": "9922863b-7907-4d46-8fa8-0f0848cd93c3",
   "metadata": {},
   "source": [
    "2-Tuple: Tuple looks like list. The only difference is that comma-separated items of the same or \n",
    "different type are enclosed in parentheses. Individual items follow a zero-based index, as in a list or string"
   ]
  },
  {
   "cell_type": "code",
   "execution_count": 50,
   "id": "878bac57-730c-4639-b878-463e46a81c51",
   "metadata": {},
   "outputs": [
    {
     "data": {
      "text/plain": [
       "(5, 4, 2.054, 4654, 'Hello', 'Eman Orabi', True)"
      ]
     },
     "execution_count": 50,
     "metadata": {},
     "output_type": "execute_result"
    }
   ],
   "source": [
    "tuple=(5,4,2.054,4654,\"Hello\",\"Eman Orabi\",True)\n",
    "tuple"
   ]
  },
  {
   "cell_type": "markdown",
   "id": "84e51230-b1b4-4ecc-b864-4ef87be93a73",
   "metadata": {},
   "source": [
    "However, the important difference is that List is a mutable object and Tuple is an \n",
    "immutable object. which means that in a list you can change the value of any index, but you can't do this with Tuple."
   ]
  },
  {
   "cell_type": "code",
   "execution_count": 53,
   "id": "9bba91fd-30c3-46c7-9199-885dbdf675cd",
   "metadata": {},
   "outputs": [
    {
     "data": {
      "text/plain": [
       "['Hello', 25, 4.05, 2002, True, 'Eman', 'Orabi', 'E', 'm', 'a']"
      ]
     },
     "execution_count": 53,
     "metadata": {},
     "output_type": "execute_result"
    }
   ],
   "source": [
    "list"
   ]
  },
  {
   "cell_type": "code",
   "execution_count": 55,
   "id": "89db252d-30ae-45c0-b211-36ecdbc93b3f",
   "metadata": {},
   "outputs": [
    {
     "data": {
      "text/plain": [
       "['Hello', 25, 4.05, 'Hello', True, 'Eman', 'Orabi', 'E', 'm', 'a']"
      ]
     },
     "execution_count": 55,
     "metadata": {},
     "output_type": "execute_result"
    }
   ],
   "source": [
    "list[3]=\"Hello\"\n",
    "list"
   ]
  },
  {
   "cell_type": "code",
   "execution_count": 57,
   "id": "56e16a66-54fc-4211-8c02-840763af27e2",
   "metadata": {},
   "outputs": [],
   "source": [
    "# tuple[2]=\"hi\"   ---> Here It will give Error as we can't modify in the tuple"
   ]
  },
  {
   "cell_type": "markdown",
   "id": "01230d66-9a1c-4a4c-b3b1-23bc84ec53fa",
   "metadata": {},
   "source": [
    "Python supports the usual logical conditions from mathematics:\r",
    "•Equals: a == b\n",
    "•Not Equals: a != \r\n",
    "•Less than: a <b\r\n",
    "•Less than or equal to a < b\r\n",
    "•Greater than: a> b\r\n",
    "•Greater than or equal to a >= b"
   ]
  },
  {
   "cell_type": "markdown",
   "id": "5a4c1107-b020-4ab4-8f5d-ecb414429fb2",
   "metadata": {},
   "source": [
    "                 If Statement"
   ]
  },
  {
   "cell_type": "code",
   "execution_count": 61,
   "id": "42f2b2ab-84eb-495b-b18b-65034e0ac750",
   "metadata": {},
   "outputs": [
    {
     "name": "stdout",
     "output_type": "stream",
     "text": [
      "B is Smaller Than A\n"
     ]
    }
   ],
   "source": [
    "a=200\n",
    "b=30\n",
    "if b>a:\n",
    "    print(\"B is Greater than A\")\n",
    "elif b==a:\n",
    "    print(\"A is Equal To B\")\n",
    "else:\n",
    "    print(\"B is Smaller Than A\")\n"
   ]
  },
  {
   "cell_type": "markdown",
   "id": "eadd8870-0328-4142-87b3-6a755cdf5dc0",
   "metadata": {},
   "source": [
    "                     While loop and for loop"
   ]
  },
  {
   "cell_type": "markdown",
   "id": "8ab8b8e6-9314-49c4-b7e4-3d9bf0b5d080",
   "metadata": {},
   "source": [
    "While loop:\r\n",
    "With the break statement we can stop the loop even if the while condition is true:"
   ]
  },
  {
   "cell_type": "code",
   "execution_count": 65,
   "id": "d9d560c6-d85e-4918-82d3-15e5b06bac6d",
   "metadata": {},
   "outputs": [
    {
     "name": "stdout",
     "output_type": "stream",
     "text": [
      "1\n",
      "2\n",
      "3\n"
     ]
    }
   ],
   "source": [
    "i=1\n",
    "while i< 6:\n",
    "    print(i)\n",
    "    if i==3:\n",
    "        break\n",
    "    i+=1   "
   ]
  },
  {
   "cell_type": "code",
   "execution_count": 67,
   "id": "755fd8cb-0311-4db5-b09e-af0282834a4a",
   "metadata": {},
   "outputs": [
    {
     "name": "stdout",
     "output_type": "stream",
     "text": [
      "Apple\n",
      "Banana\n",
      "Cherry\n"
     ]
    }
   ],
   "source": [
    "fruits=[\"Apple\",\"Banana\",\"Cherry\"]\n",
    "for i in fruits:\n",
    "    print(i)"
   ]
  },
  {
   "cell_type": "code",
   "execution_count": 69,
   "id": "66197a21-ecc7-446d-8cff-7ae49516ca68",
   "metadata": {},
   "outputs": [
    {
     "name": "stdout",
     "output_type": "stream",
     "text": [
      "Apple\n",
      "Banana\n"
     ]
    }
   ],
   "source": [
    "for i in fruits:\n",
    "    print(i)\n",
    "    if i==\"Banana\":\n",
    "        break"
   ]
  },
  {
   "cell_type": "code",
   "execution_count": 71,
   "id": "c202da26-9485-4450-a56e-67ac1e87ca59",
   "metadata": {},
   "outputs": [
    {
     "name": "stdout",
     "output_type": "stream",
     "text": [
      "0\n",
      "1\n",
      "2\n",
      "3\n",
      "4\n",
      "5\n"
     ]
    }
   ],
   "source": [
    "for x in range(6): # 0 included, but 6 is Excluded\n",
    "    print(x)"
   ]
  },
  {
   "cell_type": "code",
   "execution_count": 73,
   "id": "9b36f993-1f53-4132-8905-dc5c02285db9",
   "metadata": {},
   "outputs": [
    {
     "name": "stdout",
     "output_type": "stream",
     "text": [
      "2\n",
      "3\n",
      "4\n",
      "5\n"
     ]
    }
   ],
   "source": [
    "for u in range(2,6):   # Here 2 included, but 6 Excluded\n",
    "    print(u)"
   ]
  },
  {
   "cell_type": "code",
   "execution_count": 75,
   "id": "a804e3c1-7d80-4985-bf8c-eda75dbd688f",
   "metadata": {},
   "outputs": [
    {
     "name": "stdout",
     "output_type": "stream",
     "text": [
      "2\n",
      "5\n",
      "8\n",
      "11\n",
      "14\n",
      "17\n",
      "20\n",
      "23\n",
      "26\n",
      "29\n"
     ]
    }
   ],
   "source": [
    "for t in range(2,30,3):  # Here 2 included, 30 is Excluded and 3 is the steps of range\n",
    "    print(t)"
   ]
  },
  {
   "cell_type": "code",
   "execution_count": 77,
   "id": "188837d3-18a4-4686-84fe-4c8c9c7e1dae",
   "metadata": {},
   "outputs": [
    {
     "name": "stdout",
     "output_type": "stream",
     "text": [
      "0\n",
      "1\n",
      "2\n",
      "3\n",
      "4\n",
      "5\n",
      "Finally Finished\n"
     ]
    }
   ],
   "source": [
    "for x in range(6):\n",
    "    print(x)\n",
    "else:\n",
    "    print(\"Finally Finished\")"
   ]
  },
  {
   "cell_type": "markdown",
   "id": "51023378-9572-47b4-b680-a3b4ac64a9b5",
   "metadata": {},
   "source": [
    "            Functions "
   ]
  },
  {
   "cell_type": "code",
   "execution_count": 80,
   "id": "cb017743-c925-47b9-bba2-7d25d783d5b2",
   "metadata": {},
   "outputs": [
    {
     "name": "stdout",
     "output_type": "stream",
     "text": [
      "Eman Orabi\n"
     ]
    }
   ],
   "source": [
    "def myname(fname,lname):\n",
    "    print(fname+\" \"+lname)\n",
    "myname(\"Eman\",\"Orabi\")    "
   ]
  },
  {
   "cell_type": "markdown",
   "id": "d1474614-2a11-4bbb-bbfd-00b8e06b366f",
   "metadata": {},
   "source": [
    "             Arbitrary Arguments, *args\n",
    "                                              \n",
    "If you do not know how many arguments that will be passed into your function, add \n",
    "a * before the parameter name in the function definition.\n",
    "This way the function will receive a tuple of arguments, and can access the items \n",
    "accordingly:"
   ]
  },
  {
   "cell_type": "code",
   "execution_count": 83,
   "id": "1cdafe3b-244f-439d-a88e-8c6048bb5938",
   "metadata": {},
   "outputs": [
    {
     "name": "stdout",
     "output_type": "stream",
     "text": [
      "The Youngest Child is Esraa\n"
     ]
    }
   ],
   "source": [
    "def myfunc(*kids):\n",
    "    print(\"The Youngest Child is \"+kids[-1])\n",
    "myfunc(\"Eman\",\"Ahmed\",\"Esraa\")    # here it takes the last input as i say index -1"
   ]
  },
  {
   "cell_type": "markdown",
   "id": "2164d16a-9e63-49f7-bc54-f87a6024b6ec",
   "metadata": {},
   "source": [
    "                 Thank you :)"
   ]
  }
 ],
 "metadata": {
  "kernelspec": {
   "display_name": "Python 3 (ipykernel)",
   "language": "python",
   "name": "python3"
  },
  "language_info": {
   "codemirror_mode": {
    "name": "ipython",
    "version": 3
   },
   "file_extension": ".py",
   "mimetype": "text/x-python",
   "name": "python",
   "nbconvert_exporter": "python",
   "pygments_lexer": "ipython3",
   "version": "3.12.4"
  }
 },
 "nbformat": 4,
 "nbformat_minor": 5
}
