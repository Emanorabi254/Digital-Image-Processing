{
 "cells": [
  {
   "cell_type": "code",
   "execution_count": 11,
   "id": "a53b15b0-54b9-4ca7-b7e6-74ef78645308",
   "metadata": {},
   "outputs": [
    {
     "name": "stdout",
     "output_type": "stream",
     "text": [
      "array('b', [1, 6, 8, 1, 6, 8])\n",
      "[ 2 12 16]\n"
     ]
    }
   ],
   "source": [
    "import array as arr\n",
    "import numpy as np\n",
    "\n",
    "a=[1,6,8]\n",
    "a=arr.array('b',a)\n",
    "n=a*2\n",
    "print(n)\n",
    "\n",
    "a1=np.array(a)\n",
    "n1=a1*2\n",
    "print(n1)"
   ]
  },
  {
   "cell_type": "code",
   "execution_count": 17,
   "id": "c40ccdde-bc24-447a-ba40-101d74c325b0",
   "metadata": {},
   "outputs": [
    {
     "name": "stdout",
     "output_type": "stream",
     "text": [
      "[[0. 0. 0. 0. 0.]\n",
      " [0. 0. 0. 0. 0.]\n",
      " [0. 0. 0. 0. 0.]\n",
      " [0. 0. 0. 0. 0.]\n",
      " [0. 0. 0. 0. 0.]]\n",
      "[[1. 1. 1. 1. 1.]\n",
      " [1. 1. 1. 1. 1.]\n",
      " [1. 1. 1. 1. 1.]\n",
      " [1. 1. 1. 1. 1.]\n",
      " [1. 1. 1. 1. 1.]]\n"
     ]
    }
   ],
   "source": [
    "import numpy as np\n",
    "x=np.zeros([5,5])\n",
    "y=np.ones([5,5])\n",
    "print(x)\n",
    "print(y)"
   ]
  },
  {
   "cell_type": "code",
   "execution_count": null,
   "id": "579d0aa3-585d-43cb-9231-4897bfa796a2",
   "metadata": {},
   "outputs": [],
   "source": [
    "import cv2\n",
    "img=cv2.imread(\"windows.jpg\",0)\n",
    "cv2"
   ]
  }
 ],
 "metadata": {
  "kernelspec": {
   "display_name": "Python 3 (ipykernel)",
   "language": "python",
   "name": "python3"
  },
  "language_info": {
   "codemirror_mode": {
    "name": "ipython",
    "version": 3
   },
   "file_extension": ".py",
   "mimetype": "text/x-python",
   "name": "python",
   "nbconvert_exporter": "python",
   "pygments_lexer": "ipython3",
   "version": "3.12.4"
  }
 },
 "nbformat": 4,
 "nbformat_minor": 5
}
